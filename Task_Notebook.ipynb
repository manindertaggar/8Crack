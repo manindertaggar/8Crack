{
  "nbformat": 4,
  "nbformat_minor": 0,
  "metadata": {
    "colab": {
      "provenance": [],
      "include_colab_link": true
    },
    "kernelspec": {
      "name": "python3",
      "display_name": "Python 3"
    },
    "language_info": {
      "name": "python"
    }
  },
  "cells": [
    {
      "cell_type": "markdown",
      "metadata": {
        "id": "view-in-github",
        "colab_type": "text"
      },
      "source": [
        "<a href=\"https://colab.research.google.com/github/manindertaggar/8Crack/blob/master/Task_Notebook.ipynb\" target=\"_parent\"><img src=\"https://colab.research.google.com/assets/colab-badge.svg\" alt=\"Open In Colab\"/></a>"
      ]
    },
    {
      "cell_type": "markdown",
      "source": [
        "\n",
        "1. **Make a Copy of this template**. Then, run the following code to the first cell to create the required folders.\n",
        "\n",
        "**Note:** Your /data file will be loacated in the /content folder."
      ],
      "metadata": {
        "id": "dmuFrB_77fnv"
      }
    },
    {
      "cell_type": "code",
      "execution_count": null,
      "metadata": {
        "colab": {
          "base_uri": "https://localhost:8080/"
        },
        "id": "o_H9zasc7bpo",
        "outputId": "dc384f3e-f2b4-49fc-fa88-f4ae04f18cb5"
      },
      "outputs": [
        {
          "output_type": "stream",
          "name": "stdout",
          "text": [
            "Contents of the current directory:\n",
            ".:\n",
            "data  sample_data\n",
            "\n",
            "./data:\n",
            "out\n",
            "\n",
            "./data/out:\n",
            "\n",
            "./sample_data:\n",
            "anscombe.json\t\t     california_housing_train.csv  mnist_train_small.csv\n",
            "california_housing_test.csv  mnist_test.csv\t\t   README.md\n",
            "\n",
            "Current working directory:\n",
            "/content\n"
          ]
        }
      ],
      "source": [
        "import os\n",
        "\n",
        "# Create directories\n",
        "os.makedirs('./data/out', exist_ok=True)\n",
        "\n",
        "# List the contents of the current directory\n",
        "print(\"Contents of the current directory:\")\n",
        "!ls -R\n",
        "\n",
        "# Print the absolute path of the current working directory\n",
        "print(\"\\nCurrent working directory:\")\n",
        "!pwd\n",
        "\n",
        "# Create the output directory if it doesn't exist\n",
        "output_dir = '/content/data/out'\n",
        "os.makedirs(output_dir, exist_ok=True)"
      ]
    },
    {
      "cell_type": "markdown",
      "source": [
        "  **2.** Upload the datafile that you downloaded from the task into /./data.\n",
        "  \n",
        "  **Note:** You can click on the upload symbol and upload data to /./data . Click on the blue link to go directly to folder."
      ],
      "metadata": {
        "id": "nWdqCGDv9JUe"
      }
    },
    {
      "cell_type": "markdown",
      "source": [
        " **3. Write and execute your code below**\n",
        "Be sure to save your resutls and files to ./data/out .\n",
        "\n",
        "\n",
        "**Note:** If you need additional libraries do \"!pip install\""
      ],
      "metadata": {
        "id": "Z5fFFlgDEStw"
      }
    },
    {
      "cell_type": "code",
      "source": [
        "\n",
        "#Write your code here"
      ],
      "metadata": {
        "id": "ZKbRINKLFkcO"
      },
      "execution_count": null,
      "outputs": []
    },
    {
      "cell_type": "markdown",
      "source": [
        "**4.** Download /data/out file to local drive and upload to task.\n"
      ],
      "metadata": {
        "id": "6FoD-RD1Bwen"
      }
    }
  ]
}